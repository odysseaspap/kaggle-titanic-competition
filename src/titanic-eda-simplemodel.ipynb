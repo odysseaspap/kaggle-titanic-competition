{
 "cells": [
  {
   "cell_type": "markdown",
   "metadata": {
    "papermill": {
     "duration": 0.02111,
     "end_time": "2020-08-11T13:55:19.806227",
     "exception": false,
     "start_time": "2020-08-11T13:55:19.785117",
     "status": "completed"
    },
    "tags": []
   },
   "source": [
    "# Introduction\n",
    "\n",
    "This notebook includes my first approach to Kaggle's [Titanic: Machine Learning from Disaster competition](https://www.kaggle.com/c/titanic). In this challenge, the goal is to use passenger data (ie name, age, gender, socio-economic class, etc) and build a predictive model that answers the question: “what sorts of people were more likely to survive?”. \n",
    "\n",
    "To tackle this interesting problem, a preparatory analysis is performed and the best features are identified and used to build a classifier model.   "
   ]
  },
  {
   "cell_type": "markdown",
   "metadata": {
    "papermill": {
     "duration": 0.017464,
     "end_time": "2020-08-11T13:55:19.842438",
     "exception": false,
     "start_time": "2020-08-11T13:55:19.824974",
     "status": "completed"
    },
    "tags": []
   },
   "source": [
    "# Importing necessary packages and gaining a high level overview of the data"
   ]
  },
  {
   "cell_type": "code",
   "execution_count": 1,
   "metadata": {
    "_cell_guid": "b1076dfc-b9ad-4769-8c92-a6c4dae69d19",
    "_uuid": "8f2839f25d086af736a60e9eeb907d3b93b6e0e5",
    "execution": {
     "iopub.execute_input": "2020-08-11T13:55:19.891466Z",
     "iopub.status.busy": "2020-08-11T13:55:19.890594Z",
     "iopub.status.idle": "2020-08-11T13:55:21.580169Z",
     "shell.execute_reply": "2020-08-11T13:55:21.578989Z"
    },
    "papermill": {
     "duration": 1.720294,
     "end_time": "2020-08-11T13:55:21.580390",
     "exception": false,
     "start_time": "2020-08-11T13:55:19.860096",
     "status": "completed"
    },
    "tags": []
   },
   "outputs": [
    {
     "name": "stdout",
     "output_type": "stream",
     "text": [
      "Setup complete\n"
     ]
    }
   ],
   "source": [
    "# Import libraries\n",
    "import pandas as pd \n",
    "import numpy as np\n",
    "pd.plotting.register_matplotlib_converters()\n",
    "import matplotlib.pyplot as plt\n",
    "%matplotlib inline\n",
    "import seaborn as sns\n",
    "sns.set_style('dark')\n",
    "from sklearn.impute import SimpleImputer\n",
    "from sklearn.preprocessing import OneHotEncoder\n",
    "from sklearn.compose import ColumnTransformer\n",
    "from sklearn.pipeline import Pipeline\n",
    "from sklearn.ensemble import RandomForestClassifier\n",
    "from sklearn.model_selection import cross_val_score\n",
    "print('Setup complete')"
   ]
  },
  {
   "cell_type": "code",
   "execution_count": 2,
   "metadata": {
    "execution": {
     "iopub.execute_input": "2020-08-11T13:55:21.625114Z",
     "iopub.status.busy": "2020-08-11T13:55:21.624275Z",
     "iopub.status.idle": "2020-08-11T13:55:21.670031Z",
     "shell.execute_reply": "2020-08-11T13:55:21.670682Z"
    },
    "papermill": {
     "duration": 0.071549,
     "end_time": "2020-08-11T13:55:21.670855",
     "exception": false,
     "start_time": "2020-08-11T13:55:21.599306",
     "status": "completed"
    },
    "tags": []
   },
   "outputs": [
    {
     "data": {
      "text/html": [
       "<div>\n",
       "<style scoped>\n",
       "    .dataframe tbody tr th:only-of-type {\n",
       "        vertical-align: middle;\n",
       "    }\n",
       "\n",
       "    .dataframe tbody tr th {\n",
       "        vertical-align: top;\n",
       "    }\n",
       "\n",
       "    .dataframe thead th {\n",
       "        text-align: right;\n",
       "    }\n",
       "</style>\n",
       "<table border=\"1\" class=\"dataframe\">\n",
       "  <thead>\n",
       "    <tr style=\"text-align: right;\">\n",
       "      <th></th>\n",
       "      <th>PassengerId</th>\n",
       "      <th>Survived</th>\n",
       "      <th>Pclass</th>\n",
       "      <th>Name</th>\n",
       "      <th>Sex</th>\n",
       "      <th>Age</th>\n",
       "      <th>SibSp</th>\n",
       "      <th>Parch</th>\n",
       "      <th>Ticket</th>\n",
       "      <th>Fare</th>\n",
       "      <th>Cabin</th>\n",
       "      <th>Embarked</th>\n",
       "    </tr>\n",
       "  </thead>\n",
       "  <tbody>\n",
       "    <tr>\n",
       "      <th>0</th>\n",
       "      <td>1</td>\n",
       "      <td>0</td>\n",
       "      <td>3</td>\n",
       "      <td>Braund, Mr. Owen Harris</td>\n",
       "      <td>male</td>\n",
       "      <td>22.0</td>\n",
       "      <td>1</td>\n",
       "      <td>0</td>\n",
       "      <td>A/5 21171</td>\n",
       "      <td>7.2500</td>\n",
       "      <td>NaN</td>\n",
       "      <td>S</td>\n",
       "    </tr>\n",
       "    <tr>\n",
       "      <th>1</th>\n",
       "      <td>2</td>\n",
       "      <td>1</td>\n",
       "      <td>1</td>\n",
       "      <td>Cumings, Mrs. John Bradley (Florence Briggs Th...</td>\n",
       "      <td>female</td>\n",
       "      <td>38.0</td>\n",
       "      <td>1</td>\n",
       "      <td>0</td>\n",
       "      <td>PC 17599</td>\n",
       "      <td>71.2833</td>\n",
       "      <td>C85</td>\n",
       "      <td>C</td>\n",
       "    </tr>\n",
       "    <tr>\n",
       "      <th>2</th>\n",
       "      <td>3</td>\n",
       "      <td>1</td>\n",
       "      <td>3</td>\n",
       "      <td>Heikkinen, Miss. Laina</td>\n",
       "      <td>female</td>\n",
       "      <td>26.0</td>\n",
       "      <td>0</td>\n",
       "      <td>0</td>\n",
       "      <td>STON/O2. 3101282</td>\n",
       "      <td>7.9250</td>\n",
       "      <td>NaN</td>\n",
       "      <td>S</td>\n",
       "    </tr>\n",
       "    <tr>\n",
       "      <th>3</th>\n",
       "      <td>4</td>\n",
       "      <td>1</td>\n",
       "      <td>1</td>\n",
       "      <td>Futrelle, Mrs. Jacques Heath (Lily May Peel)</td>\n",
       "      <td>female</td>\n",
       "      <td>35.0</td>\n",
       "      <td>1</td>\n",
       "      <td>0</td>\n",
       "      <td>113803</td>\n",
       "      <td>53.1000</td>\n",
       "      <td>C123</td>\n",
       "      <td>S</td>\n",
       "    </tr>\n",
       "    <tr>\n",
       "      <th>4</th>\n",
       "      <td>5</td>\n",
       "      <td>0</td>\n",
       "      <td>3</td>\n",
       "      <td>Allen, Mr. William Henry</td>\n",
       "      <td>male</td>\n",
       "      <td>35.0</td>\n",
       "      <td>0</td>\n",
       "      <td>0</td>\n",
       "      <td>373450</td>\n",
       "      <td>8.0500</td>\n",
       "      <td>NaN</td>\n",
       "      <td>S</td>\n",
       "    </tr>\n",
       "  </tbody>\n",
       "</table>\n",
       "</div>"
      ],
      "text/plain": [
       "   PassengerId  Survived  Pclass  \\\n",
       "0            1         0       3   \n",
       "1            2         1       1   \n",
       "2            3         1       3   \n",
       "3            4         1       1   \n",
       "4            5         0       3   \n",
       "\n",
       "                                                Name     Sex   Age  SibSp  \\\n",
       "0                            Braund, Mr. Owen Harris    male  22.0      1   \n",
       "1  Cumings, Mrs. John Bradley (Florence Briggs Th...  female  38.0      1   \n",
       "2                             Heikkinen, Miss. Laina  female  26.0      0   \n",
       "3       Futrelle, Mrs. Jacques Heath (Lily May Peel)  female  35.0      1   \n",
       "4                           Allen, Mr. William Henry    male  35.0      0   \n",
       "\n",
       "   Parch            Ticket     Fare Cabin Embarked  \n",
       "0      0         A/5 21171   7.2500   NaN        S  \n",
       "1      0          PC 17599  71.2833   C85        C  \n",
       "2      0  STON/O2. 3101282   7.9250   NaN        S  \n",
       "3      0            113803  53.1000  C123        S  \n",
       "4      0            373450   8.0500   NaN        S  "
      ]
     },
     "execution_count": 2,
     "metadata": {},
     "output_type": "execute_result"
    }
   ],
   "source": [
    "# Load and preview the data\n",
    "train_data_full = pd.read_csv('/kaggle/input/titanic/train.csv')\n",
    "test_data_full = pd.read_csv('/kaggle/input/titanic/test.csv')\n",
    "train_data_full.head()"
   ]
  },
  {
   "cell_type": "code",
   "execution_count": 3,
   "metadata": {
    "execution": {
     "iopub.execute_input": "2020-08-11T13:55:21.726951Z",
     "iopub.status.busy": "2020-08-11T13:55:21.725986Z",
     "iopub.status.idle": "2020-08-11T13:55:21.731478Z",
     "shell.execute_reply": "2020-08-11T13:55:21.730546Z"
    },
    "papermill": {
     "duration": 0.042064,
     "end_time": "2020-08-11T13:55:21.731654",
     "exception": false,
     "start_time": "2020-08-11T13:55:21.689590",
     "status": "completed"
    },
    "tags": []
   },
   "outputs": [
    {
     "name": "stdout",
     "output_type": "stream",
     "text": [
      "<class 'pandas.core.frame.DataFrame'>\n",
      "RangeIndex: 891 entries, 0 to 890\n",
      "Data columns (total 12 columns):\n",
      " #   Column       Non-Null Count  Dtype  \n",
      "---  ------       --------------  -----  \n",
      " 0   PassengerId  891 non-null    int64  \n",
      " 1   Survived     891 non-null    int64  \n",
      " 2   Pclass       891 non-null    int64  \n",
      " 3   Name         891 non-null    object \n",
      " 4   Sex          891 non-null    object \n",
      " 5   Age          714 non-null    float64\n",
      " 6   SibSp        891 non-null    int64  \n",
      " 7   Parch        891 non-null    int64  \n",
      " 8   Ticket       891 non-null    object \n",
      " 9   Fare         891 non-null    float64\n",
      " 10  Cabin        204 non-null    object \n",
      " 11  Embarked     889 non-null    object \n",
      "dtypes: float64(2), int64(5), object(5)\n",
      "memory usage: 83.7+ KB\n"
     ]
    }
   ],
   "source": [
    "# Get an overview of the training data\n",
    "train_data_full.info()"
   ]
  },
  {
   "cell_type": "code",
   "execution_count": 4,
   "metadata": {
    "execution": {
     "iopub.execute_input": "2020-08-11T13:55:21.782783Z",
     "iopub.status.busy": "2020-08-11T13:55:21.781851Z",
     "iopub.status.idle": "2020-08-11T13:55:21.786321Z",
     "shell.execute_reply": "2020-08-11T13:55:21.786916Z"
    },
    "papermill": {
     "duration": 0.036169,
     "end_time": "2020-08-11T13:55:21.787103",
     "exception": false,
     "start_time": "2020-08-11T13:55:21.750934",
     "status": "completed"
    },
    "tags": []
   },
   "outputs": [
    {
     "name": "stdout",
     "output_type": "stream",
     "text": [
      "<class 'pandas.core.frame.DataFrame'>\n",
      "RangeIndex: 418 entries, 0 to 417\n",
      "Data columns (total 11 columns):\n",
      " #   Column       Non-Null Count  Dtype  \n",
      "---  ------       --------------  -----  \n",
      " 0   PassengerId  418 non-null    int64  \n",
      " 1   Pclass       418 non-null    int64  \n",
      " 2   Name         418 non-null    object \n",
      " 3   Sex          418 non-null    object \n",
      " 4   Age          332 non-null    float64\n",
      " 5   SibSp        418 non-null    int64  \n",
      " 6   Parch        418 non-null    int64  \n",
      " 7   Ticket       418 non-null    object \n",
      " 8   Fare         417 non-null    float64\n",
      " 9   Cabin        91 non-null     object \n",
      " 10  Embarked     418 non-null    object \n",
      "dtypes: float64(2), int64(4), object(5)\n",
      "memory usage: 36.0+ KB\n"
     ]
    }
   ],
   "source": [
    "# Get an overview of the test data\n",
    "test_data_full.info()"
   ]
  },
  {
   "cell_type": "markdown",
   "metadata": {
    "papermill": {
     "duration": 0.018568,
     "end_time": "2020-08-11T13:55:21.824253",
     "exception": false,
     "start_time": "2020-08-11T13:55:21.805685",
     "status": "completed"
    },
    "tags": []
   },
   "source": [
    "From the short overview above, we notice that the training data have NULL values in the columns Age, Cabin and Embarked. Test data appear to have NULL values in the columns Age, Fare and Cabin. Before dealing with such issues or performing a more detailed Exploratory Data Analysis (EDA), we can take a look at the distribution of the label we want to predict, the \"Survived\" column of the data:"
   ]
  },
  {
   "cell_type": "code",
   "execution_count": 5,
   "metadata": {
    "execution": {
     "iopub.execute_input": "2020-08-11T13:55:21.868571Z",
     "iopub.status.busy": "2020-08-11T13:55:21.867636Z",
     "iopub.status.idle": "2020-08-11T13:55:22.105995Z",
     "shell.execute_reply": "2020-08-11T13:55:22.106698Z"
    },
    "papermill": {
     "duration": 0.264067,
     "end_time": "2020-08-11T13:55:22.106871",
     "exception": false,
     "start_time": "2020-08-11T13:55:21.842804",
     "status": "completed"
    },
    "tags": []
   },
   "outputs": [
    {
     "data": {
      "text/plain": [
       "<matplotlib.axes._subplots.AxesSubplot at 0x7fcb2e6f31d0>"
      ]
     },
     "execution_count": 5,
     "metadata": {},
     "output_type": "execute_result"
    },
    {
     "data": {
      "image/png": "[encoded data removed]",
      "text/plain": [
       "<Figure size 432x288 with 1 Axes>"
      ]
     },
     "metadata": {},
     "output_type": "display_data"
    }
   ],
   "source": [
    "\n",
    "# Add title\n",
    "plt.title(\"Number of Survived and Not Survived labels of the Titanic training data\")\n",
    "# Create count plot from Survived column\n",
    "sns.countplot(train_data_full['Survived'])\n"
   ]
  },
  {
   "cell_type": "code",
   "execution_count": 6,
   "metadata": {
    "execution": {
     "iopub.execute_input": "2020-08-11T13:55:22.155232Z",
     "iopub.status.busy": "2020-08-11T13:55:22.154432Z",
     "iopub.status.idle": "2020-08-11T13:55:22.182868Z",
     "shell.execute_reply": "2020-08-11T13:55:22.182082Z"
    },
    "papermill": {
     "duration": 0.055225,
     "end_time": "2020-08-11T13:55:22.182998",
     "exception": false,
     "start_time": "2020-08-11T13:55:22.127773",
     "status": "completed"
    },
    "tags": []
   },
   "outputs": [
    {
     "data": {
      "text/plain": [
       "0    0.616162\n",
       "1    0.383838\n",
       "Name: Survived, dtype: float64"
      ]
     },
     "execution_count": 6,
     "metadata": {},
     "output_type": "execute_result"
    }
   ],
   "source": [
    "# Show percentage of survived to get a better understanding\n",
    "train_data_full['Survived'].value_counts(normalize=True)"
   ]
  },
  {
   "cell_type": "markdown",
   "metadata": {
    "papermill": {
     "duration": 0.018707,
     "end_time": "2020-08-11T13:55:22.220927",
     "exception": false,
     "start_time": "2020-08-11T13:55:22.202220",
     "status": "completed"
    },
    "tags": []
   },
   "source": [
    "We notice that only around 38.4% of the people survived the Titanic disaster, which already gives an important overview of the target distribution "
   ]
  },
  {
   "cell_type": "markdown",
   "metadata": {
    "papermill": {
     "duration": 0.01889,
     "end_time": "2020-08-11T13:55:22.258807",
     "exception": false,
     "start_time": "2020-08-11T13:55:22.239917",
     "status": "completed"
    },
    "tags": []
   },
   "source": [
    "# Data Analysis and Feature Selection"
   ]
  },
  {
   "cell_type": "markdown",
   "metadata": {
    "papermill": {
     "duration": 0.018526,
     "end_time": "2020-08-11T13:55:22.296316",
     "exception": false,
     "start_time": "2020-08-11T13:55:22.277790",
     "status": "completed"
    },
    "tags": []
   },
   "source": [
    "In this section, a more detailed analysis of the data is performed which is necessary to undestand which features might have the biggest impact on the prediced labels"
   ]
  },
  {
   "cell_type": "markdown",
   "metadata": {
    "papermill": {
     "duration": 0.018607,
     "end_time": "2020-08-11T13:55:22.334638",
     "exception": false,
     "start_time": "2020-08-11T13:55:22.316031",
     "status": "completed"
    },
    "tags": []
   },
   "source": [
    "## Sex\n",
    "\n",
    "As can be seen from the plot below, the survival rate of women was almost 4 times that of men. This indicates that the Sex column holds a very important feature that strongly affects the label of the data"
   ]
  },
  {
   "cell_type": "code",
   "execution_count": 7,
   "metadata": {
    "execution": {
     "iopub.execute_input": "2020-08-11T13:55:22.390203Z",
     "iopub.status.busy": "2020-08-11T13:55:22.388938Z",
     "iopub.status.idle": "2020-08-11T13:55:22.688255Z",
     "shell.execute_reply": "2020-08-11T13:55:22.688918Z"
    },
    "papermill": {
     "duration": 0.333301,
     "end_time": "2020-08-11T13:55:22.689115",
     "exception": false,
     "start_time": "2020-08-11T13:55:22.355814",
     "status": "completed"
    },
    "tags": []
   },
   "outputs": [
    {
     "data": {
      "text/plain": [
       "<matplotlib.axes._subplots.AxesSubplot at 0x7fcb2e4bf8d0>"
      ]
     },
     "execution_count": 7,
     "metadata": {},
     "output_type": "execute_result"
    },
    {
     "data": {
      "image/png": "[encoded data removed]",
      "text/plain": [
       "<Figure size 432x288 with 1 Axes>"
      ]
     },
     "metadata": {},
     "output_type": "display_data"
    }
   ],
   "source": [
    "# Investigating how the sex of a passenger affected the survival\n",
    "plt.title(\"Survival rate by sex\")\n",
    "sns.barplot(x='Sex', y='Survived',data=train_data_full)"
   ]
  },
  {
   "cell_type": "markdown",
   "metadata": {
    "papermill": {
     "duration": 0.022651,
     "end_time": "2020-08-11T13:55:22.737151",
     "exception": false,
     "start_time": "2020-08-11T13:55:22.714500",
     "status": "completed"
    },
    "tags": []
   },
   "source": [
    "## Age\n",
    "\n",
    "Altough this column contains a lot of missing values, we can still try to extract meaningful information by plotting the age distribution in the training data, for both the Survived and Not Survived class.   "
   ]
  },
  {
   "cell_type": "code",
   "execution_count": 8,
   "metadata": {
    "execution": {
     "iopub.execute_input": "2020-08-11T13:55:22.913277Z",
     "iopub.status.busy": "2020-08-11T13:55:22.895955Z",
     "iopub.status.idle": "2020-08-11T13:55:23.266188Z",
     "shell.execute_reply": "2020-08-11T13:55:23.264924Z"
    },
    "papermill": {
     "duration": 0.506032,
     "end_time": "2020-08-11T13:55:23.266438",
     "exception": false,
     "start_time": "2020-08-11T13:55:22.760406",
     "status": "completed"
    },
    "tags": []
   },
   "outputs": [
    {
     "data": {
      "text/plain": [
       "<matplotlib.axes._subplots.AxesSubplot at 0x7fcb2c3f8690>"
      ]
     },
     "execution_count": 8,
     "metadata": {},
     "output_type": "execute_result"
    },
    {
     "data": {
      "image/png": "[encoded data removed]",
      "text/plain": [
       "<Figure size 432x288 with 1 Axes>"
      ]
     },
     "metadata": {},
     "output_type": "display_data"
    }
   ],
   "source": [
    "# Combined KDE plot with the age distribution of each class\n",
    "plt.title(\"Age distribution for the two survival classes\")\n",
    "sns.kdeplot(train_data_full['Age'].loc[train_data_full[\"Survived\"] == 1 ], shade=True, label=\"Survived\")\n",
    "sns.kdeplot(train_data_full['Age'].loc[train_data_full[\"Survived\"] == 0 ], shade=True, label=\"Not Survived\")"
   ]
  },
  {
   "cell_type": "markdown",
   "metadata": {
    "papermill": {
     "duration": 0.020069,
     "end_time": "2020-08-11T13:55:23.308501",
     "exception": false,
     "start_time": "2020-08-11T13:55:23.288432",
     "status": "completed"
    },
    "tags": []
   },
   "source": [
    "We notice that by itself, the Age feature is not very informative. The average age in the data is around 30 years old, both for survivals and non survivals. A small difference is noticed in small ages below 10 years old where there is a peak corresponding to young passengers who survived. We can try to see how this feature affects the target labels by combining it with another feature, such as the Sex of the passenger. Since we want to combine a numerical feature (Age) with a categorical (Sex), we will use a swarmplot as can be seen below:  "
   ]
  },
  {
   "cell_type": "code",
   "execution_count": 9,
   "metadata": {
    "execution": {
     "iopub.execute_input": "2020-08-11T13:55:23.364543Z",
     "iopub.status.busy": "2020-08-11T13:55:23.362854Z",
     "iopub.status.idle": "2020-08-11T13:55:24.131587Z",
     "shell.execute_reply": "2020-08-11T13:55:24.130681Z"
    },
    "papermill": {
     "duration": 0.802925,
     "end_time": "2020-08-11T13:55:24.131744",
     "exception": false,
     "start_time": "2020-08-11T13:55:23.328819",
     "status": "completed"
    },
    "tags": []
   },
   "outputs": [
    {
     "data": {
      "text/plain": [
       "<matplotlib.axes._subplots.AxesSubplot at 0x7fcb2c3b7ad0>"
      ]
     },
     "execution_count": 9,
     "metadata": {},
     "output_type": "execute_result"
    },
    {
     "data": {
      "image/png": "[encoded data removed]",
      "text/plain": [
       "<Figure size 576x576 with 1 Axes>"
      ]
     },
     "metadata": {},
     "output_type": "display_data"
    }
   ],
   "source": [
    "# Swarmplot showing how the Age and Sex of a passenger affected his survival\n",
    "plt.figure(figsize=(8,8))\n",
    "plt.title(\"Effect of Age and Sex on the survival\")\n",
    "sns.swarmplot(x=\"Sex\", y=\"Age\", hue = \"Survived\", data=train_data_full)"
   ]
  },
  {
   "cell_type": "markdown",
   "metadata": {
    "papermill": {
     "duration": 0.020969,
     "end_time": "2020-08-11T13:55:24.174722",
     "exception": false,
     "start_time": "2020-08-11T13:55:24.153753",
     "status": "completed"
    },
    "tags": []
   },
   "source": [
    "From the above swarmplot we notice a concentration of survived data points for males under 10 years of age, while for the females there are no particular properties. This shows that while women were in general more likely to survive independent of their age, only young males of 10 years or less had a good chance of survival.  "
   ]
  },
  {
   "cell_type": "markdown",
   "metadata": {
    "papermill": {
     "duration": 0.020769,
     "end_time": "2020-08-11T13:55:24.216904",
     "exception": false,
     "start_time": "2020-08-11T13:55:24.196135",
     "status": "completed"
    },
    "tags": []
   },
   "source": [
    "## Passenger class (Pclass)\n",
    "\n",
    "We expect this feature to also be important for the target prediction, so we have a closer look into it here. We start by printing the relative frequencies of the unique Pclass values: "
   ]
  },
  {
   "cell_type": "code",
   "execution_count": 10,
   "metadata": {
    "execution": {
     "iopub.execute_input": "2020-08-11T13:55:24.270433Z",
     "iopub.status.busy": "2020-08-11T13:55:24.269438Z",
     "iopub.status.idle": "2020-08-11T13:55:24.274998Z",
     "shell.execute_reply": "2020-08-11T13:55:24.274225Z"
    },
    "papermill": {
     "duration": 0.036458,
     "end_time": "2020-08-11T13:55:24.275157",
     "exception": false,
     "start_time": "2020-08-11T13:55:24.238699",
     "status": "completed"
    },
    "tags": []
   },
   "outputs": [
    {
     "data": {
      "text/plain": [
       "3    0.551066\n",
       "1    0.242424\n",
       "2    0.206510\n",
       "Name: Pclass, dtype: float64"
      ]
     },
     "execution_count": 10,
     "metadata": {},
     "output_type": "execute_result"
    }
   ],
   "source": [
    "# Percentage of Pclass values\n",
    "train_data_full['Pclass'].value_counts(normalize=True)"
   ]
  },
  {
   "cell_type": "markdown",
   "metadata": {
    "papermill": {
     "duration": 0.021456,
     "end_time": "2020-08-11T13:55:24.318014",
     "exception": false,
     "start_time": "2020-08-11T13:55:24.296558",
     "status": "completed"
    },
    "tags": []
   },
   "source": [
    "We notice that around 55% of the passengers were in the third class, with 24% being in the second and 20% in the first. But how does this correlate to the survival rate? To see this we can group the data by Pclass and check the Survival label: "
   ]
  },
  {
   "cell_type": "code",
   "execution_count": 11,
   "metadata": {
    "execution": {
     "iopub.execute_input": "2020-08-11T13:55:24.373561Z",
     "iopub.status.busy": "2020-08-11T13:55:24.372356Z",
     "iopub.status.idle": "2020-08-11T13:55:24.377148Z",
     "shell.execute_reply": "2020-08-11T13:55:24.376470Z"
    },
    "papermill": {
     "duration": 0.037952,
     "end_time": "2020-08-11T13:55:24.377288",
     "exception": false,
     "start_time": "2020-08-11T13:55:24.339336",
     "status": "completed"
    },
    "tags": []
   },
   "outputs": [
    {
     "data": {
      "text/plain": [
       "Pclass\n",
       "1    0.629630\n",
       "2    0.472826\n",
       "3    0.242363\n",
       "Name: Survived, dtype: float64"
      ]
     },
     "execution_count": 11,
     "metadata": {},
     "output_type": "execute_result"
    }
   ],
   "source": [
    "# Survival rate by passenger class\n",
    "train_data_full.groupby('Pclass').Survived.mean()"
   ]
  },
  {
   "cell_type": "markdown",
   "metadata": {
    "papermill": {
     "duration": 0.021225,
     "end_time": "2020-08-11T13:55:24.420071",
     "exception": false,
     "start_time": "2020-08-11T13:55:24.398846",
     "status": "completed"
    },
    "tags": []
   },
   "source": [
    "First class passengers have the highest survival rate with almost 63%, while almost half of the second class passengers were able to survive. However, only 1 out of 4 third class passengers survived the Titanic disaster. Similar to what we did above, we can also combine the Pclass with the Sex feature to get better insignts, since both of these features are quite informative:"
   ]
  },
  {
   "cell_type": "code",
   "execution_count": 12,
   "metadata": {
    "execution": {
     "iopub.execute_input": "2020-08-11T13:55:24.476803Z",
     "iopub.status.busy": "2020-08-11T13:55:24.475654Z",
     "iopub.status.idle": "2020-08-11T13:55:24.481386Z",
     "shell.execute_reply": "2020-08-11T13:55:24.480594Z"
    },
    "papermill": {
     "duration": 0.039778,
     "end_time": "2020-08-11T13:55:24.481539",
     "exception": false,
     "start_time": "2020-08-11T13:55:24.441761",
     "status": "completed"
    },
    "tags": []
   },
   "outputs": [
    {
     "data": {
      "text/plain": [
       "Pclass  Sex   \n",
       "1       female    0.968085\n",
       "        male      0.368852\n",
       "2       female    0.921053\n",
       "        male      0.157407\n",
       "3       female    0.500000\n",
       "        male      0.135447\n",
       "Name: Survived, dtype: float64"
      ]
     },
     "execution_count": 12,
     "metadata": {},
     "output_type": "execute_result"
    }
   ],
   "source": [
    "# Survival rate based on Pclass and Sex\n",
    "train_data_full.groupby(['Pclass', 'Sex']).Survived.mean()"
   ]
  },
  {
   "cell_type": "code",
   "execution_count": 13,
   "metadata": {
    "execution": {
     "iopub.execute_input": "2020-08-11T13:55:24.539502Z",
     "iopub.status.busy": "2020-08-11T13:55:24.538248Z",
     "iopub.status.idle": "2020-08-11T13:55:25.046825Z",
     "shell.execute_reply": "2020-08-11T13:55:25.045924Z"
    },
    "papermill": {
     "duration": 0.543537,
     "end_time": "2020-08-11T13:55:25.046976",
     "exception": false,
     "start_time": "2020-08-11T13:55:24.503439",
     "status": "completed"
    },
    "tags": []
   },
   "outputs": [
    {
     "data": {
      "text/plain": [
       "<matplotlib.axes._subplots.AxesSubplot at 0x7fcb2aa8e050>"
      ]
     },
     "execution_count": 13,
     "metadata": {},
     "output_type": "execute_result"
    },
    {
     "data": {
      "image/png": "[encoded data removed]",
      "text/plain": [
       "<Figure size 576x432 with 1 Axes>"
      ]
     },
     "metadata": {},
     "output_type": "display_data"
    }
   ],
   "source": [
    "# Survival rate based on Pclass and Sex\n",
    "plt.figure(figsize=(8,6))\n",
    "plt.title(\"Survival rate by passenger class and sex\")\n",
    "sns.barplot(x=\"Pclass\",y=\"Survived\", hue=\"Sex\", data=train_data_full)"
   ]
  },
  {
   "cell_type": "markdown",
   "metadata": {
    "papermill": {
     "duration": 0.024038,
     "end_time": "2020-08-11T13:55:25.093806",
     "exception": false,
     "start_time": "2020-08-11T13:55:25.069768",
     "status": "completed"
    },
    "tags": []
   },
   "source": [
    "The results above provide some quite interesting insights. First and second class women had a very high survival rate of 97% and 92%, respectively, while the percentage drops to 50% for women travelling in third class. Despite that, third class women had a higher survival rate than first class men, which shows again the important of the Sex feature for the survival. "
   ]
  },
  {
   "cell_type": "markdown",
   "metadata": {
    "papermill": {
     "duration": 0.021993,
     "end_time": "2020-08-11T13:55:25.138310",
     "exception": false,
     "start_time": "2020-08-11T13:55:25.116317",
     "status": "completed"
    },
    "tags": []
   },
   "source": [
    "## Fare\n",
    "\n",
    "As with previous features, we start by looking the various values of this feature:"
   ]
  },
  {
   "cell_type": "code",
   "execution_count": 14,
   "metadata": {
    "execution": {
     "iopub.execute_input": "2020-08-11T13:55:25.192353Z",
     "iopub.status.busy": "2020-08-11T13:55:25.191132Z",
     "iopub.status.idle": "2020-08-11T13:55:25.199260Z",
     "shell.execute_reply": "2020-08-11T13:55:25.198135Z"
    },
    "papermill": {
     "duration": 0.038332,
     "end_time": "2020-08-11T13:55:25.199452",
     "exception": false,
     "start_time": "2020-08-11T13:55:25.161120",
     "status": "completed"
    },
    "tags": []
   },
   "outputs": [
    {
     "name": "stdout",
     "output_type": "stream",
     "text": [
      "Highest Fare was: 512.3292\n",
      "Lowest Fare was: 0.0\n",
      "Average Fare was: 32.2042079685746\n"
     ]
    }
   ],
   "source": [
    "# Max, min and average fare values\n",
    "print('Highest Fare was:',train_data_full['Fare'].max())\n",
    "print('Lowest Fare was:',train_data_full['Fare'].min())\n",
    "print('Average Fare was:',train_data_full['Fare'].mean())"
   ]
  },
  {
   "cell_type": "markdown",
   "metadata": {
    "papermill": {
     "duration": 0.022428,
     "end_time": "2020-08-11T13:55:25.244748",
     "exception": false,
     "start_time": "2020-08-11T13:55:25.222320",
     "status": "completed"
    },
    "tags": []
   },
   "source": [
    "We can directly notice a weird property of this feature, since some Fare values are zero. We can have a closer look by checking into all the passengers with zero fare value:"
   ]
  },
  {
   "cell_type": "code",
   "execution_count": 15,
   "metadata": {
    "execution": {
     "iopub.execute_input": "2020-08-11T13:55:25.319873Z",
     "iopub.status.busy": "2020-08-11T13:55:25.318928Z",
     "iopub.status.idle": "2020-08-11T13:55:25.325114Z",
     "shell.execute_reply": "2020-08-11T13:55:25.324395Z"
    },
    "papermill": {
     "duration": 0.057937,
     "end_time": "2020-08-11T13:55:25.325264",
     "exception": false,
     "start_time": "2020-08-11T13:55:25.267327",
     "status": "completed"
    },
    "tags": []
   },
   "outputs": [
    {
     "data": {
      "text/html": [
       "<div>\n",
       "<style scoped>\n",
       "    .dataframe tbody tr th:only-of-type {\n",
       "        vertical-align: middle;\n",
       "    }\n",
       "\n",
       "    .dataframe tbody tr th {\n",
       "        vertical-align: top;\n",
       "    }\n",
       "\n",
       "    .dataframe thead th {\n",
       "        text-align: right;\n",
       "    }\n",
       "</style>\n",
       "<table border=\"1\" class=\"dataframe\">\n",
       "  <thead>\n",
       "    <tr style=\"text-align: right;\">\n",
       "      <th></th>\n",
       "      <th>PassengerId</th>\n",
       "      <th>Survived</th>\n",
       "      <th>Pclass</th>\n",
       "      <th>Name</th>\n",
       "      <th>Sex</th>\n",
       "      <th>Age</th>\n",
       "      <th>SibSp</th>\n",
       "      <th>Parch</th>\n",
       "      <th>Ticket</th>\n",
       "      <th>Fare</th>\n",
       "      <th>Cabin</th>\n",
       "      <th>Embarked</th>\n",
       "    </tr>\n",
       "  </thead>\n",
       "  <tbody>\n",
       "    <tr>\n",
       "      <th>179</th>\n",
       "      <td>180</td>\n",
       "      <td>0</td>\n",
       "      <td>3</td>\n",
       "      <td>Leonard, Mr. Lionel</td>\n",
       "      <td>male</td>\n",
       "      <td>36.0</td>\n",
       "      <td>0</td>\n",
       "      <td>0</td>\n",
       "      <td>LINE</td>\n",
       "      <td>0.0</td>\n",
       "      <td>NaN</td>\n",
       "      <td>S</td>\n",
       "    </tr>\n",
       "    <tr>\n",
       "      <th>263</th>\n",
       "      <td>264</td>\n",
       "      <td>0</td>\n",
       "      <td>1</td>\n",
       "      <td>Harrison, Mr. William</td>\n",
       "      <td>male</td>\n",
       "      <td>40.0</td>\n",
       "      <td>0</td>\n",
       "      <td>0</td>\n",
       "      <td>112059</td>\n",
       "      <td>0.0</td>\n",
       "      <td>B94</td>\n",
       "      <td>S</td>\n",
       "    </tr>\n",
       "    <tr>\n",
       "      <th>271</th>\n",
       "      <td>272</td>\n",
       "      <td>1</td>\n",
       "      <td>3</td>\n",
       "      <td>Tornquist, Mr. William Henry</td>\n",
       "      <td>male</td>\n",
       "      <td>25.0</td>\n",
       "      <td>0</td>\n",
       "      <td>0</td>\n",
       "      <td>LINE</td>\n",
       "      <td>0.0</td>\n",
       "      <td>NaN</td>\n",
       "      <td>S</td>\n",
       "    </tr>\n",
       "    <tr>\n",
       "      <th>277</th>\n",
       "      <td>278</td>\n",
       "      <td>0</td>\n",
       "      <td>2</td>\n",
       "      <td>Parkes, Mr. Francis \"Frank\"</td>\n",
       "      <td>male</td>\n",
       "      <td>NaN</td>\n",
       "      <td>0</td>\n",
       "      <td>0</td>\n",
       "      <td>239853</td>\n",
       "      <td>0.0</td>\n",
       "      <td>NaN</td>\n",
       "      <td>S</td>\n",
       "    </tr>\n",
       "    <tr>\n",
       "      <th>302</th>\n",
       "      <td>303</td>\n",
       "      <td>0</td>\n",
       "      <td>3</td>\n",
       "      <td>Johnson, Mr. William Cahoone Jr</td>\n",
       "      <td>male</td>\n",
       "      <td>19.0</td>\n",
       "      <td>0</td>\n",
       "      <td>0</td>\n",
       "      <td>LINE</td>\n",
       "      <td>0.0</td>\n",
       "      <td>NaN</td>\n",
       "      <td>S</td>\n",
       "    </tr>\n",
       "    <tr>\n",
       "      <th>413</th>\n",
       "      <td>414</td>\n",
       "      <td>0</td>\n",
       "      <td>2</td>\n",
       "      <td>Cunningham, Mr. Alfred Fleming</td>\n",
       "      <td>male</td>\n",
       "      <td>NaN</td>\n",
       "      <td>0</td>\n",
       "      <td>0</td>\n",
       "      <td>239853</td>\n",
       "      <td>0.0</td>\n",
       "      <td>NaN</td>\n",
       "      <td>S</td>\n",
       "    </tr>\n",
       "    <tr>\n",
       "      <th>466</th>\n",
       "      <td>467</td>\n",
       "      <td>0</td>\n",
       "      <td>2</td>\n",
       "      <td>Campbell, Mr. William</td>\n",
       "      <td>male</td>\n",
       "      <td>NaN</td>\n",
       "      <td>0</td>\n",
       "      <td>0</td>\n",
       "      <td>239853</td>\n",
       "      <td>0.0</td>\n",
       "      <td>NaN</td>\n",
       "      <td>S</td>\n",
       "    </tr>\n",
       "    <tr>\n",
       "      <th>481</th>\n",
       "      <td>482</td>\n",
       "      <td>0</td>\n",
       "      <td>2</td>\n",
       "      <td>Frost, Mr. Anthony Wood \"Archie\"</td>\n",
       "      <td>male</td>\n",
       "      <td>NaN</td>\n",
       "      <td>0</td>\n",
       "      <td>0</td>\n",
       "      <td>239854</td>\n",
       "      <td>0.0</td>\n",
       "      <td>NaN</td>\n",
       "      <td>S</td>\n",
       "    </tr>\n",
       "    <tr>\n",
       "      <th>597</th>\n",
       "      <td>598</td>\n",
       "      <td>0</td>\n",
       "      <td>3</td>\n",
       "      <td>Johnson, Mr. Alfred</td>\n",
       "      <td>male</td>\n",
       "      <td>49.0</td>\n",
       "      <td>0</td>\n",
       "      <td>0</td>\n",
       "      <td>LINE</td>\n",
       "      <td>0.0</td>\n",
       "      <td>NaN</td>\n",
       "      <td>S</td>\n",
       "    </tr>\n",
       "    <tr>\n",
       "      <th>633</th>\n",
       "      <td>634</td>\n",
       "      <td>0</td>\n",
       "      <td>1</td>\n",
       "      <td>Parr, Mr. William Henry Marsh</td>\n",
       "      <td>male</td>\n",
       "      <td>NaN</td>\n",
       "      <td>0</td>\n",
       "      <td>0</td>\n",
       "      <td>112052</td>\n",
       "      <td>0.0</td>\n",
       "      <td>NaN</td>\n",
       "      <td>S</td>\n",
       "    </tr>\n",
       "    <tr>\n",
       "      <th>674</th>\n",
       "      <td>675</td>\n",
       "      <td>0</td>\n",
       "      <td>2</td>\n",
       "      <td>Watson, Mr. Ennis Hastings</td>\n",
       "      <td>male</td>\n",
       "      <td>NaN</td>\n",
       "      <td>0</td>\n",
       "      <td>0</td>\n",
       "      <td>239856</td>\n",
       "      <td>0.0</td>\n",
       "      <td>NaN</td>\n",
       "      <td>S</td>\n",
       "    </tr>\n",
       "    <tr>\n",
       "      <th>732</th>\n",
       "      <td>733</td>\n",
       "      <td>0</td>\n",
       "      <td>2</td>\n",
       "      <td>Knight, Mr. Robert J</td>\n",
       "      <td>male</td>\n",
       "      <td>NaN</td>\n",
       "      <td>0</td>\n",
       "      <td>0</td>\n",
       "      <td>239855</td>\n",
       "      <td>0.0</td>\n",
       "      <td>NaN</td>\n",
       "      <td>S</td>\n",
       "    </tr>\n",
       "    <tr>\n",
       "      <th>806</th>\n",
       "      <td>807</td>\n",
       "      <td>0</td>\n",
       "      <td>1</td>\n",
       "      <td>Andrews, Mr. Thomas Jr</td>\n",
       "      <td>male</td>\n",
       "      <td>39.0</td>\n",
       "      <td>0</td>\n",
       "      <td>0</td>\n",
       "      <td>112050</td>\n",
       "      <td>0.0</td>\n",
       "      <td>A36</td>\n",
       "      <td>S</td>\n",
       "    </tr>\n",
       "    <tr>\n",
       "      <th>815</th>\n",
       "      <td>816</td>\n",
       "      <td>0</td>\n",
       "      <td>1</td>\n",
       "      <td>Fry, Mr. Richard</td>\n",
       "      <td>male</td>\n",
       "      <td>NaN</td>\n",
       "      <td>0</td>\n",
       "      <td>0</td>\n",
       "      <td>112058</td>\n",
       "      <td>0.0</td>\n",
       "      <td>B102</td>\n",
       "      <td>S</td>\n",
       "    </tr>\n",
       "    <tr>\n",
       "      <th>822</th>\n",
       "      <td>823</td>\n",
       "      <td>0</td>\n",
       "      <td>1</td>\n",
       "      <td>Reuchlin, Jonkheer. John George</td>\n",
       "      <td>male</td>\n",
       "      <td>38.0</td>\n",
       "      <td>0</td>\n",
       "      <td>0</td>\n",
       "      <td>19972</td>\n",
       "      <td>0.0</td>\n",
       "      <td>NaN</td>\n",
       "      <td>S</td>\n",
       "    </tr>\n",
       "  </tbody>\n",
       "</table>\n",
       "</div>"
      ],
      "text/plain": [
       "     PassengerId  Survived  Pclass                              Name   Sex  \\\n",
       "179          180         0       3               Leonard, Mr. Lionel  male   \n",
       "263          264         0       1             Harrison, Mr. William  male   \n",
       "271          272         1       3      Tornquist, Mr. William Henry  male   \n",
       "277          278         0       2       Parkes, Mr. Francis \"Frank\"  male   \n",
       "302          303         0       3   Johnson, Mr. William Cahoone Jr  male   \n",
       "413          414         0       2    Cunningham, Mr. Alfred Fleming  male   \n",
       "466          467         0       2             Campbell, Mr. William  male   \n",
       "481          482         0       2  Frost, Mr. Anthony Wood \"Archie\"  male   \n",
       "597          598         0       3               Johnson, Mr. Alfred  male   \n",
       "633          634         0       1     Parr, Mr. William Henry Marsh  male   \n",
       "674          675         0       2        Watson, Mr. Ennis Hastings  male   \n",
       "732          733         0       2              Knight, Mr. Robert J  male   \n",
       "806          807         0       1            Andrews, Mr. Thomas Jr  male   \n",
       "815          816         0       1                  Fry, Mr. Richard  male   \n",
       "822          823         0       1   Reuchlin, Jonkheer. John George  male   \n",
       "\n",
       "      Age  SibSp  Parch  Ticket  Fare Cabin Embarked  \n",
       "179  36.0      0      0    LINE   0.0   NaN        S  \n",
       "263  40.0      0      0  112059   0.0   B94        S  \n",
       "271  25.0      0      0    LINE   0.0   NaN        S  \n",
       "277   NaN      0      0  239853   0.0   NaN        S  \n",
       "302  19.0      0      0    LINE   0.0   NaN        S  \n",
       "413   NaN      0      0  239853   0.0   NaN        S  \n",
       "466   NaN      0      0  239853   0.0   NaN        S  \n",
       "481   NaN      0      0  239854   0.0   NaN        S  \n",
       "597  49.0      0      0    LINE   0.0   NaN        S  \n",
       "633   NaN      0      0  112052   0.0   NaN        S  \n",
       "674   NaN      0      0  239856   0.0   NaN        S  \n",
       "732   NaN      0      0  239855   0.0   NaN        S  \n",
       "806  39.0      0      0  112050   0.0   A36        S  \n",
       "815   NaN      0      0  112058   0.0  B102        S  \n",
       "822  38.0      0      0   19972   0.0   NaN        S  "
      ]
     },
     "execution_count": 15,
     "metadata": {},
     "output_type": "execute_result"
    }
   ],
   "source": [
    "# Subset of training data with zero Fare value\n",
    "train_data_full.loc[train_data_full[\"Fare\"] == 0.0]"
   ]
  },
  {
   "cell_type": "markdown",
   "metadata": {
    "papermill": {
     "duration": 0.022743,
     "end_time": "2020-08-11T13:55:25.371321",
     "exception": false,
     "start_time": "2020-08-11T13:55:25.348578",
     "status": "completed"
    },
    "tags": []
   },
   "source": [
    "Since even some first class passengers appear to have zero Fare values, this is clearly a mistake that must be corrected. As a first correction step, the zero values in the Fare column of the training and test sets will be replaced by NaN values. These will later be imputed, during the data preprocessing stage of this Notebook."
   ]
  },
  {
   "cell_type": "code",
   "execution_count": 16,
   "metadata": {
    "execution": {
     "iopub.execute_input": "2020-08-11T13:55:25.428921Z",
     "iopub.status.busy": "2020-08-11T13:55:25.427829Z",
     "iopub.status.idle": "2020-08-11T13:55:25.432397Z",
     "shell.execute_reply": "2020-08-11T13:55:25.431654Z"
    },
    "papermill": {
     "duration": 0.03799,
     "end_time": "2020-08-11T13:55:25.432527",
     "exception": false,
     "start_time": "2020-08-11T13:55:25.394537",
     "status": "completed"
    },
    "tags": []
   },
   "outputs": [
    {
     "name": "stdout",
     "output_type": "stream",
     "text": [
      "Number of zero Fares: 0\n"
     ]
    }
   ],
   "source": [
    "train_data_full[\"Fare\"].replace(0.0, np.nan, inplace=True)\n",
    "test_data_full[\"Fare\"].replace(0.0, np.nan, inplace=True)\n",
    "# Check if zero Fares have been eliminated\n",
    "print('Number of zero Fares: {:d}'.format(train_data_full.loc[train_data_full[\"Fare\"]==0].shape[0]))"
   ]
  },
  {
   "cell_type": "markdown",
   "metadata": {
    "papermill": {
     "duration": 0.022683,
     "end_time": "2020-08-11T13:55:25.478114",
     "exception": false,
     "start_time": "2020-08-11T13:55:25.455431",
     "status": "completed"
    },
    "tags": []
   },
   "source": [
    "After having replaced the zero Fare vaues by NaN, we plot below the relationship of this feature with the Survived label. Since there are many different fare values, we discretize them into four main categories, low, medium, high and very high."
   ]
  },
  {
   "cell_type": "code",
   "execution_count": 17,
   "metadata": {
    "execution": {
     "iopub.execute_input": "2020-08-11T13:55:25.535096Z",
     "iopub.status.busy": "2020-08-11T13:55:25.533850Z",
     "iopub.status.idle": "2020-08-11T13:55:25.918877Z",
     "shell.execute_reply": "2020-08-11T13:55:25.918087Z"
    },
    "papermill": {
     "duration": 0.417597,
     "end_time": "2020-08-11T13:55:25.919011",
     "exception": false,
     "start_time": "2020-08-11T13:55:25.501414",
     "status": "completed"
    },
    "tags": []
   },
   "outputs": [
    {
     "data": {
      "image/png": "[encoded data removed]",
      "text/plain": [
       "<Figure size 576x432 with 1 Axes>"
      ]
     },
     "metadata": {},
     "output_type": "display_data"
    }
   ],
   "source": [
    "plt.figure(figsize=(8,6))\n",
    "fare_ranges = pd.qcut(train_data_full.Fare, 4, labels = ['Low', 'Medium', 'High', 'Very high'])\n",
    "plt.title('Survival rate by fare category')\n",
    "g = sns.barplot(x=fare_ranges, y=train_data_full.Survived).set_ylabel('Survival rate')"
   ]
  },
  {
   "cell_type": "markdown",
   "metadata": {
    "papermill": {
     "duration": 0.023269,
     "end_time": "2020-08-11T13:55:25.965841",
     "exception": false,
     "start_time": "2020-08-11T13:55:25.942572",
     "status": "completed"
    },
    "tags": []
   },
   "source": [
    "As expected, the higher the fare, the higher the survival probability."
   ]
  },
  {
   "cell_type": "markdown",
   "metadata": {
    "papermill": {
     "duration": 0.082352,
     "end_time": "2020-08-11T13:55:26.071876",
     "exception": false,
     "start_time": "2020-08-11T13:55:25.989524",
     "status": "completed"
    },
    "tags": []
   },
   "source": [
    "## Embarked\n",
    "\n",
    "This column tells us where the passenger embarked the ship from. As described in the Data section of the competition, there are three possible values, C = Cherbourg, Q = Queenstown and S = Southampton. It is not easy to see how this feature might affect the survival, so we try to get some ideas about this with the following plots:"
   ]
  },
  {
   "cell_type": "code",
   "execution_count": 18,
   "metadata": {
    "execution": {
     "iopub.execute_input": "2020-08-11T13:55:26.137662Z",
     "iopub.status.busy": "2020-08-11T13:55:26.136728Z",
     "iopub.status.idle": "2020-08-11T13:55:26.509717Z",
     "shell.execute_reply": "2020-08-11T13:55:26.510355Z"
    },
    "papermill": {
     "duration": 0.415365,
     "end_time": "2020-08-11T13:55:26.510557",
     "exception": false,
     "start_time": "2020-08-11T13:55:26.095192",
     "status": "completed"
    },
    "tags": []
   },
   "outputs": [
    {
     "data": {
      "image/png": "[encoded data removed]",
      "text/plain": [
       "<Figure size 864x432 with 2 Axes>"
      ]
     },
     "metadata": {},
     "output_type": "display_data"
    }
   ],
   "source": [
    "fig, axarr = plt.subplots(1,2,figsize=(12,6))\n",
    "sns.countplot(train_data_full['Embarked'], ax=axarr[0]).set_title('Passengers count by boarding point')\n",
    "p = sns.countplot(x = 'Embarked', hue = 'Survived', data = train_data_full, ax=axarr[1]).set_title('Survivors and deads count by boarding point')"
   ]
  },
  {
   "cell_type": "markdown",
   "metadata": {
    "papermill": {
     "duration": 0.023398,
     "end_time": "2020-08-11T13:55:26.557971",
     "exception": false,
     "start_time": "2020-08-11T13:55:26.534573",
     "status": "completed"
    },
    "tags": []
   },
   "source": [
    "In the training data, more than 70% of the people boarded from Southampton, slightly under 20% from Cherbourg and the rest from Queenstown.\n",
    "Counting survivors by boarding point, we see that more people who embarked from Cherbourg survived than those who died.\n",
    "Since we don't expect that a passenger's boarding point could change the chance of surviving, we guess this is probably due to the higher proportion of first and second class passengers for those who came from Cherbourg rather than Queenstown and Southampton.\n",
    "To check this, we see the class distribution for the different embarking points."
   ]
  },
  {
   "cell_type": "code",
   "execution_count": 19,
   "metadata": {
    "execution": {
     "iopub.execute_input": "2020-08-11T13:55:26.642411Z",
     "iopub.status.busy": "2020-08-11T13:55:26.619629Z",
     "iopub.status.idle": "2020-08-11T13:55:26.856004Z",
     "shell.execute_reply": "2020-08-11T13:55:26.855214Z"
    },
    "papermill": {
     "duration": 0.274123,
     "end_time": "2020-08-11T13:55:26.856153",
     "exception": false,
     "start_time": "2020-08-11T13:55:26.582030",
     "status": "completed"
    },
    "tags": []
   },
   "outputs": [
    {
     "data": {
      "text/plain": [
       "Text(0.5, 1.0, 'Pclass count by embarking point')"
      ]
     },
     "execution_count": 19,
     "metadata": {},
     "output_type": "execute_result"
    },
    {
     "data": {
      "image/png": "[encoded data removed]",
      "text/plain": [
       "<Figure size 432x288 with 1 Axes>"
      ]
     },
     "metadata": {},
     "output_type": "display_data"
    }
   ],
   "source": [
    "sns.countplot(data=train_data_full, x='Embarked', hue='Pclass').set_title('Pclass count by embarking point')"
   ]
  },
  {
   "cell_type": "markdown",
   "metadata": {
    "papermill": {
     "duration": 0.024281,
     "end_time": "2020-08-11T13:55:26.904796",
     "exception": false,
     "start_time": "2020-08-11T13:55:26.880515",
     "status": "completed"
    },
    "tags": []
   },
   "source": [
    "Indeed, it appears that the reason behind the high Cherbourg survival rate is the high proportion of first and second class passengers"
   ]
  },
  {
   "cell_type": "markdown",
   "metadata": {
    "papermill": {
     "duration": 0.02458,
     "end_time": "2020-08-11T13:55:26.954162",
     "exception": false,
     "start_time": "2020-08-11T13:55:26.929582",
     "status": "completed"
    },
    "tags": []
   },
   "source": [
    "## SibSp"
   ]
  },
  {
   "cell_type": "markdown",
   "metadata": {
    "papermill": {
     "duration": 0.024929,
     "end_time": "2020-08-11T13:55:27.003945",
     "exception": false,
     "start_time": "2020-08-11T13:55:26.979016",
     "status": "completed"
    },
    "tags": []
   },
   "source": [
    "This feature holds the number of siblings or spouses aboard the titanic. In order to decide if this feature will be useful for the training of our model, we investigate its relationship with the Survived label"
   ]
  },
  {
   "cell_type": "code",
   "execution_count": 20,
   "metadata": {
    "execution": {
     "iopub.execute_input": "2020-08-11T13:55:27.067098Z",
     "iopub.status.busy": "2020-08-11T13:55:27.061567Z",
     "iopub.status.idle": "2020-08-11T13:55:27.619154Z",
     "shell.execute_reply": "2020-08-11T13:55:27.618273Z"
    },
    "papermill": {
     "duration": 0.589872,
     "end_time": "2020-08-11T13:55:27.619297",
     "exception": false,
     "start_time": "2020-08-11T13:55:27.029425",
     "status": "completed"
    },
    "tags": []
   },
   "outputs": [
    {
     "data": {
      "text/plain": [
       "<matplotlib.axes._subplots.AxesSubplot at 0x7fcb2a887650>"
      ]
     },
     "execution_count": 20,
     "metadata": {},
     "output_type": "execute_result"
    },
    {
     "data": {
      "image/png": "[encoded data removed]",
      "text/plain": [
       "<Figure size 432x288 with 1 Axes>"
      ]
     },
     "metadata": {},
     "output_type": "display_data"
    }
   ],
   "source": [
    "plt.title(\"Survival rate by SibSp\")\n",
    "sns.barplot(x='SibSp', y='Survived',data=train_data_full)"
   ]
  },
  {
   "cell_type": "markdown",
   "metadata": {
    "papermill": {
     "duration": 0.024639,
     "end_time": "2020-08-11T13:55:27.669178",
     "exception": false,
     "start_time": "2020-08-11T13:55:27.644539",
     "status": "completed"
    },
    "tags": []
   },
   "source": [
    "We see that the chances of surviving are lower for those who traveled alone or with more than 2 siblings. Furthermore, we notice that no one from a big family with 5 or 8 siblings was able to survive."
   ]
  },
  {
   "cell_type": "markdown",
   "metadata": {
    "papermill": {
     "duration": 0.02451,
     "end_time": "2020-08-11T13:55:27.718474",
     "exception": false,
     "start_time": "2020-08-11T13:55:27.693964",
     "status": "completed"
    },
    "tags": []
   },
   "source": [
    "## Parch"
   ]
  },
  {
   "cell_type": "markdown",
   "metadata": {
    "papermill": {
     "duration": 0.02467,
     "end_time": "2020-08-11T13:55:27.768235",
     "exception": false,
     "start_time": "2020-08-11T13:55:27.743565",
     "status": "completed"
    },
    "tags": []
   },
   "source": [
    "Here we investigate how the Parch column, which holds the number of parents or children above the Titanic, relates to the survival rate. It is expected that we see a similar relation as in the SibSp feature."
   ]
  },
  {
   "cell_type": "code",
   "execution_count": 21,
   "metadata": {
    "execution": {
     "iopub.execute_input": "2020-08-11T13:55:27.833063Z",
     "iopub.status.busy": "2020-08-11T13:55:27.831114Z",
     "iopub.status.idle": "2020-08-11T13:55:28.333295Z",
     "shell.execute_reply": "2020-08-11T13:55:28.332464Z"
    },
    "papermill": {
     "duration": 0.540232,
     "end_time": "2020-08-11T13:55:28.333437",
     "exception": false,
     "start_time": "2020-08-11T13:55:27.793205",
     "status": "completed"
    },
    "tags": []
   },
   "outputs": [
    {
     "data": {
      "text/plain": [
       "<matplotlib.axes._subplots.AxesSubplot at 0x7fcb2a892510>"
      ]
     },
     "execution_count": 21,
     "metadata": {},
     "output_type": "execute_result"
    },
    {
     "data": {
      "image/png": "[encoded data removed]",
      "text/plain": [
       "<Figure size 432x288 with 1 Axes>"
      ]
     },
     "metadata": {},
     "output_type": "display_data"
    }
   ],
   "source": [
    "plt.title(\"Survival rate by Parch\")\n",
    "sns.barplot(x=\"Parch\",y=\"Survived\", data=train_data_full)"
   ]
  },
  {
   "cell_type": "markdown",
   "metadata": {
    "papermill": {
     "duration": 0.025015,
     "end_time": "2020-08-11T13:55:28.383820",
     "exception": false,
     "start_time": "2020-08-11T13:55:28.358805",
     "status": "completed"
    },
    "tags": []
   },
   "source": [
    "As expected, from the plot above we note that small families had more chances to survive than bigger ones and passengers who traveled alone. "
   ]
  },
  {
   "cell_type": "markdown",
   "metadata": {
    "papermill": {
     "duration": 0.024916,
     "end_time": "2020-08-11T13:55:28.434139",
     "exception": false,
     "start_time": "2020-08-11T13:55:28.409223",
     "status": "completed"
    },
    "tags": []
   },
   "source": [
    "## Family type (generated from SibSp + Parch)"
   ]
  },
  {
   "cell_type": "markdown",
   "metadata": {
    "papermill": {
     "duration": 0.025407,
     "end_time": "2020-08-11T13:55:28.484744",
     "exception": false,
     "start_time": "2020-08-11T13:55:28.459337",
     "status": "completed"
    },
    "tags": []
   },
   "source": [
    "Since the two features examined above, SibSp and Parch, have very similar correlation to the survival rate and also provide related information, we can combine them into a single, more informative feature. Since the original features are on the same scale (0-10), we can combine them as seen below:"
   ]
  },
  {
   "cell_type": "code",
   "execution_count": 22,
   "metadata": {
    "execution": {
     "iopub.execute_input": "2020-08-11T13:55:28.546112Z",
     "iopub.status.busy": "2020-08-11T13:55:28.544959Z",
     "iopub.status.idle": "2020-08-11T13:55:28.548645Z",
     "shell.execute_reply": "2020-08-11T13:55:28.547826Z"
    },
    "papermill": {
     "duration": 0.03877,
     "end_time": "2020-08-11T13:55:28.548789",
     "exception": false,
     "start_time": "2020-08-11T13:55:28.510019",
     "status": "completed"
    },
    "tags": []
   },
   "outputs": [],
   "source": [
    "# Creation of a new Fam_size column which is the sum of SibSp, Parch and 1 (the passenger himself).\n",
    "train_data_full['Fam_size'] = train_data_full['SibSp'] + train_data_full['Parch'] + 1\n",
    "test_data_full['Fam_size'] = test_data_full['SibSp'] + test_data_full['Parch'] + 1"
   ]
  },
  {
   "cell_type": "markdown",
   "metadata": {
    "papermill": {
     "duration": 0.024932,
     "end_time": "2020-08-11T13:55:28.598954",
     "exception": false,
     "start_time": "2020-08-11T13:55:28.574022",
     "status": "completed"
    },
    "tags": []
   },
   "source": [
    "We can now plot the relation of this new feature with respect to the survival rate. The plot below shows in a more consice way the insights we got from Parch and SibSp; small families between 2 and 4 people have the higher survival chances, followed by Solo passengers while the survival rate drops from bigger families and is zero for very big families of 8 or 11 people.  "
   ]
  },
  {
   "cell_type": "code",
   "execution_count": 23,
   "metadata": {
    "execution": {
     "iopub.execute_input": "2020-08-11T13:55:28.661715Z",
     "iopub.status.busy": "2020-08-11T13:55:28.655457Z",
     "iopub.status.idle": "2020-08-11T13:55:29.323190Z",
     "shell.execute_reply": "2020-08-11T13:55:29.322392Z"
    },
    "papermill": {
     "duration": 0.699216,
     "end_time": "2020-08-11T13:55:29.323326",
     "exception": false,
     "start_time": "2020-08-11T13:55:28.624110",
     "status": "completed"
    },
    "tags": []
   },
   "outputs": [
    {
     "data": {
      "text/plain": [
       "<matplotlib.axes._subplots.AxesSubplot at 0x7fcb2a72f3d0>"
      ]
     },
     "execution_count": 23,
     "metadata": {},
     "output_type": "execute_result"
    },
    {
     "data": {
      "image/png": "[encoded data removed]",
      "text/plain": [
       "<Figure size 432x288 with 1 Axes>"
      ]
     },
     "metadata": {},
     "output_type": "display_data"
    }
   ],
   "source": [
    "plt.title(\"Survival rate by Fam_size\")\n",
    "sns.barplot(x=\"Fam_size\",y=\"Survived\", data=train_data_full)"
   ]
  },
  {
   "cell_type": "markdown",
   "metadata": {
    "papermill": {
     "duration": 0.025507,
     "end_time": "2020-08-11T13:55:29.374700",
     "exception": false,
     "start_time": "2020-08-11T13:55:29.349193",
     "status": "completed"
    },
    "tags": []
   },
   "source": [
    "To further summarize this trend, we create a Fam_type feature from Fam_size, which however has less discrete values than Fam_size: Solo(1), Small(2-4), Big(5-7) and Very Big(8,11):"
   ]
  },
  {
   "cell_type": "code",
   "execution_count": 24,
   "metadata": {
    "execution": {
     "iopub.execute_input": "2020-08-11T13:55:29.442289Z",
     "iopub.status.busy": "2020-08-11T13:55:29.441283Z",
     "iopub.status.idle": "2020-08-11T13:55:29.444849Z",
     "shell.execute_reply": "2020-08-11T13:55:29.444081Z"
    },
    "papermill": {
     "duration": 0.04438,
     "end_time": "2020-08-11T13:55:29.444988",
     "exception": false,
     "start_time": "2020-08-11T13:55:29.400608",
     "status": "completed"
    },
    "tags": []
   },
   "outputs": [],
   "source": [
    "# Creation of four groups\n",
    "train_data_full['Fam_type'] = pd.cut(train_data_full.Fam_size, [0,1,4,7,11], labels=['Solo', 'Small', 'Big', 'Very big'])\n",
    "test_data_full['Fam_type'] = pd.cut(test_data_full.Fam_size, [0,1,4,7,11], labels=['Solo', 'Small', 'Big', 'Very big'])"
   ]
  },
  {
   "cell_type": "code",
   "execution_count": 25,
   "metadata": {
    "execution": {
     "iopub.execute_input": "2020-08-11T13:55:29.515025Z",
     "iopub.status.busy": "2020-08-11T13:55:29.514207Z",
     "iopub.status.idle": "2020-08-11T13:55:29.882952Z",
     "shell.execute_reply": "2020-08-11T13:55:29.882220Z"
    },
    "papermill": {
     "duration": 0.411103,
     "end_time": "2020-08-11T13:55:29.883108",
     "exception": false,
     "start_time": "2020-08-11T13:55:29.472005",
     "status": "completed"
    },
    "tags": []
   },
   "outputs": [
    {
     "data": {
      "image/png": "[encoded data removed]",
      "text/plain": [
       "<Figure size 432x288 with 1 Axes>"
      ]
     },
     "metadata": {},
     "output_type": "display_data"
    }
   ],
   "source": [
    "plt.title('Survival rate by family type')\n",
    "g = sns.barplot(x=train_data_full.Fam_type, y=train_data_full.Survived).set_ylabel('Survival rate')"
   ]
  },
  {
   "cell_type": "markdown",
   "metadata": {
    "papermill": {
     "duration": 0.027016,
     "end_time": "2020-08-11T13:55:29.936941",
     "exception": false,
     "start_time": "2020-08-11T13:55:29.909925",
     "status": "completed"
    },
    "tags": []
   },
   "source": [
    "## Name\n",
    "\n",
    "This feature might seem to have no relation to the survival rate. However, after a closer look one can see that the name of each passenger includes also his/her title (Mr, Miss etc). Based on our analysis above and especially the Sex and Pclass features, we expect the Title feature to be informative in a similar manner and of course much more informative than the general Name feature. Therefore, in this section we aim to generate a new feature called Title, based on the Name feature:"
   ]
  },
  {
   "cell_type": "code",
   "execution_count": 26,
   "metadata": {
    "execution": {
     "iopub.execute_input": "2020-08-11T13:55:30.007246Z",
     "iopub.status.busy": "2020-08-11T13:55:30.005580Z",
     "iopub.status.idle": "2020-08-11T13:55:30.011669Z",
     "shell.execute_reply": "2020-08-11T13:55:30.010761Z"
    },
    "papermill": {
     "duration": 0.048323,
     "end_time": "2020-08-11T13:55:30.011851",
     "exception": false,
     "start_time": "2020-08-11T13:55:29.963528",
     "status": "completed"
    },
    "tags": []
   },
   "outputs": [],
   "source": [
    "train_data_full['Title'] = train_data_full['Name'].apply(lambda x: x.split(',')[1].split('.')[0].strip())\n",
    "test_data_full['Title'] = test_data_full['Name'].apply(lambda x: x.split(',')[1].split('.')[0].strip())"
   ]
  },
  {
   "cell_type": "code",
   "execution_count": 27,
   "metadata": {
    "execution": {
     "iopub.execute_input": "2020-08-11T13:55:30.083212Z",
     "iopub.status.busy": "2020-08-11T13:55:30.081533Z",
     "iopub.status.idle": "2020-08-11T13:55:30.088351Z",
     "shell.execute_reply": "2020-08-11T13:55:30.087639Z"
    },
    "papermill": {
     "duration": 0.046327,
     "end_time": "2020-08-11T13:55:30.088521",
     "exception": false,
     "start_time": "2020-08-11T13:55:30.042194",
     "status": "completed"
    },
    "tags": []
   },
   "outputs": [
    {
     "data": {
      "text/plain": [
       "Mr              517\n",
       "Miss            182\n",
       "Mrs             125\n",
       "Master           40\n",
       "Dr                7\n",
       "Rev               6\n",
       "Major             2\n",
       "Mlle              2\n",
       "Col               2\n",
       "the Countess      1\n",
       "Ms                1\n",
       "Lady              1\n",
       "Jonkheer          1\n",
       "Mme               1\n",
       "Sir               1\n",
       "Don               1\n",
       "Capt              1\n",
       "Name: Title, dtype: int64"
      ]
     },
     "execution_count": 27,
     "metadata": {},
     "output_type": "execute_result"
    }
   ],
   "source": [
    "train_data_full['Title'].value_counts()"
   ]
  },
  {
   "cell_type": "code",
   "execution_count": 28,
   "metadata": {
    "execution": {
     "iopub.execute_input": "2020-08-11T13:55:30.177197Z",
     "iopub.status.busy": "2020-08-11T13:55:30.176161Z",
     "iopub.status.idle": "2020-08-11T13:55:30.181680Z",
     "shell.execute_reply": "2020-08-11T13:55:30.182395Z"
    },
    "papermill": {
     "duration": 0.044824,
     "end_time": "2020-08-11T13:55:30.182582",
     "exception": false,
     "start_time": "2020-08-11T13:55:30.137758",
     "status": "completed"
    },
    "tags": []
   },
   "outputs": [
    {
     "data": {
      "text/plain": [
       "Mr        240\n",
       "Miss       78\n",
       "Mrs        72\n",
       "Master     21\n",
       "Col         2\n",
       "Rev         2\n",
       "Dr          1\n",
       "Ms          1\n",
       "Dona        1\n",
       "Name: Title, dtype: int64"
      ]
     },
     "execution_count": 28,
     "metadata": {},
     "output_type": "execute_result"
    }
   ],
   "source": [
    "test_data_full['Title'].value_counts()"
   ]
  },
  {
   "cell_type": "markdown",
   "metadata": {
    "papermill": {
     "duration": 0.027866,
     "end_time": "2020-08-11T13:55:30.237933",
     "exception": false,
     "start_time": "2020-08-11T13:55:30.210067",
     "status": "completed"
    },
    "tags": []
   },
   "source": [
    "Looking at the distribution of the titles, it might be convenient to move the really low-frequency ones into bigger groups.\n",
    "After analyzing them, we substitute all rare female titles with Miss and all rare male titles with Mr."
   ]
  },
  {
   "cell_type": "code",
   "execution_count": 29,
   "metadata": {
    "execution": {
     "iopub.execute_input": "2020-08-11T13:55:30.307085Z",
     "iopub.status.busy": "2020-08-11T13:55:30.305972Z",
     "iopub.status.idle": "2020-08-11T13:55:30.308822Z",
     "shell.execute_reply": "2020-08-11T13:55:30.309480Z"
    },
    "papermill": {
     "duration": 0.044569,
     "end_time": "2020-08-11T13:55:30.309660",
     "exception": false,
     "start_time": "2020-08-11T13:55:30.265091",
     "status": "completed"
    },
    "tags": []
   },
   "outputs": [],
   "source": [
    "# Substitute rare female titles\n",
    "train_data_full['Title'].replace(['Mme', 'Ms', 'Lady', 'Mlle', 'the Countess', 'Dona'], 'Miss', inplace=True)\n",
    "test_data_full['Title'].replace(['Mme', 'Ms', 'Lady', 'Mlle', 'the Countess', 'Dona'], 'Miss', inplace=True)\n",
    "# Substitute rare male titles\n",
    "train_data_full['Title'].replace(['Major', 'Col', 'Capt', 'Don', 'Sir', 'Jonkheer'], 'Mr', inplace=True)\n",
    "test_data_full['Title'].replace(['Major', 'Col', 'Capt', 'Don', 'Sir', 'Jonkheer'], 'Mr', inplace=True)"
   ]
  },
  {
   "cell_type": "markdown",
   "metadata": {
    "papermill": {
     "duration": 0.0271,
     "end_time": "2020-08-11T13:55:30.364257",
     "exception": false,
     "start_time": "2020-08-11T13:55:30.337157",
     "status": "completed"
    },
    "tags": []
   },
   "source": [
    "After creating this new feature, we examine its relation to the survival rate:"
   ]
  },
  {
   "cell_type": "code",
   "execution_count": 30,
   "metadata": {
    "execution": {
     "iopub.execute_input": "2020-08-11T13:55:30.430228Z",
     "iopub.status.busy": "2020-08-11T13:55:30.429303Z",
     "iopub.status.idle": "2020-08-11T13:55:30.434893Z",
     "shell.execute_reply": "2020-08-11T13:55:30.434237Z"
    },
    "papermill": {
     "duration": 0.043923,
     "end_time": "2020-08-11T13:55:30.435034",
     "exception": false,
     "start_time": "2020-08-11T13:55:30.391111",
     "status": "completed"
    },
    "tags": []
   },
   "outputs": [
    {
     "data": {
      "text/plain": [
       "Title\n",
       "Dr        0.428571\n",
       "Master    0.575000\n",
       "Miss      0.707447\n",
       "Mr        0.160000\n",
       "Mrs       0.792000\n",
       "Rev       0.000000\n",
       "Name: Survived, dtype: float64"
      ]
     },
     "execution_count": 30,
     "metadata": {},
     "output_type": "execute_result"
    }
   ],
   "source": [
    "train_data_full.groupby('Title').Survived.mean()"
   ]
  },
  {
   "cell_type": "code",
   "execution_count": 31,
   "metadata": {
    "execution": {
     "iopub.execute_input": "2020-08-11T13:55:30.504688Z",
     "iopub.status.busy": "2020-08-11T13:55:30.503649Z",
     "iopub.status.idle": "2020-08-11T13:55:30.991737Z",
     "shell.execute_reply": "2020-08-11T13:55:30.990969Z"
    },
    "papermill": {
     "duration": 0.529162,
     "end_time": "2020-08-11T13:55:30.991887",
     "exception": false,
     "start_time": "2020-08-11T13:55:30.462725",
     "status": "completed"
    },
    "tags": []
   },
   "outputs": [
    {
     "data": {
      "image/png": "[encoded data removed]",
      "text/plain": [
       "<Figure size 432x288 with 1 Axes>"
      ]
     },
     "metadata": {},
     "output_type": "display_data"
    }
   ],
   "source": [
    "plt.title('Survival rate by Title')\n",
    "g = sns.barplot(x='Title', y='Survived', data=train_data_full).set_ylabel('Survival rate')"
   ]
  },
  {
   "cell_type": "markdown",
   "metadata": {
    "papermill": {
     "duration": 0.027916,
     "end_time": "2020-08-11T13:55:31.048186",
     "exception": false,
     "start_time": "2020-08-11T13:55:31.020270",
     "status": "completed"
    },
    "tags": []
   },
   "source": [
    "We note that we were able to create a new feature with a nice correlation to the survival rate. Female titles Mrs and Miss have the highest surival rates, followed by prestigious male Titles Master and Dr. A low survival rate of less than 20% is observed for the Title Mr while zero of the Rev (pastors) in the Titanic were able to survive, according to the training data"
   ]
  },
  {
   "cell_type": "markdown",
   "metadata": {
    "papermill": {
     "duration": 0.026957,
     "end_time": "2020-08-11T13:55:31.102719",
     "exception": false,
     "start_time": "2020-08-11T13:55:31.075762",
     "status": "completed"
    },
    "tags": []
   },
   "source": [
    "# Data preprocessing and Model creation"
   ]
  },
  {
   "cell_type": "markdown",
   "metadata": {
    "papermill": {
     "duration": 0.026909,
     "end_time": "2020-08-11T13:55:31.157964",
     "exception": false,
     "start_time": "2020-08-11T13:55:31.131055",
     "status": "completed"
    },
    "tags": []
   },
   "source": [
    "The first step before the model creation consists of selecting which features will be used in the training data:"
   ]
  },
  {
   "cell_type": "code",
   "execution_count": 32,
   "metadata": {
    "execution": {
     "iopub.execute_input": "2020-08-11T13:55:31.235280Z",
     "iopub.status.busy": "2020-08-11T13:55:31.234380Z",
     "iopub.status.idle": "2020-08-11T13:55:31.239627Z",
     "shell.execute_reply": "2020-08-11T13:55:31.238848Z"
    },
    "papermill": {
     "duration": 0.054115,
     "end_time": "2020-08-11T13:55:31.239769",
     "exception": false,
     "start_time": "2020-08-11T13:55:31.185654",
     "status": "completed"
    },
    "tags": []
   },
   "outputs": [
    {
     "data": {
      "text/html": [
       "<div>\n",
       "<style scoped>\n",
       "    .dataframe tbody tr th:only-of-type {\n",
       "        vertical-align: middle;\n",
       "    }\n",
       "\n",
       "    .dataframe tbody tr th {\n",
       "        vertical-align: top;\n",
       "    }\n",
       "\n",
       "    .dataframe thead th {\n",
       "        text-align: right;\n",
       "    }\n",
       "</style>\n",
       "<table border=\"1\" class=\"dataframe\">\n",
       "  <thead>\n",
       "    <tr style=\"text-align: right;\">\n",
       "      <th></th>\n",
       "      <th>Pclass</th>\n",
       "      <th>Fare</th>\n",
       "      <th>Title</th>\n",
       "      <th>Embarked</th>\n",
       "      <th>Fam_type</th>\n",
       "      <th>Sex</th>\n",
       "      <th>Age</th>\n",
       "    </tr>\n",
       "  </thead>\n",
       "  <tbody>\n",
       "    <tr>\n",
       "      <th>0</th>\n",
       "      <td>3</td>\n",
       "      <td>7.2500</td>\n",
       "      <td>Mr</td>\n",
       "      <td>S</td>\n",
       "      <td>Small</td>\n",
       "      <td>male</td>\n",
       "      <td>22.0</td>\n",
       "    </tr>\n",
       "    <tr>\n",
       "      <th>1</th>\n",
       "      <td>1</td>\n",
       "      <td>71.2833</td>\n",
       "      <td>Mrs</td>\n",
       "      <td>C</td>\n",
       "      <td>Small</td>\n",
       "      <td>female</td>\n",
       "      <td>38.0</td>\n",
       "    </tr>\n",
       "    <tr>\n",
       "      <th>2</th>\n",
       "      <td>3</td>\n",
       "      <td>7.9250</td>\n",
       "      <td>Miss</td>\n",
       "      <td>S</td>\n",
       "      <td>Solo</td>\n",
       "      <td>female</td>\n",
       "      <td>26.0</td>\n",
       "    </tr>\n",
       "    <tr>\n",
       "      <th>3</th>\n",
       "      <td>1</td>\n",
       "      <td>53.1000</td>\n",
       "      <td>Mrs</td>\n",
       "      <td>S</td>\n",
       "      <td>Small</td>\n",
       "      <td>female</td>\n",
       "      <td>35.0</td>\n",
       "    </tr>\n",
       "    <tr>\n",
       "      <th>4</th>\n",
       "      <td>3</td>\n",
       "      <td>8.0500</td>\n",
       "      <td>Mr</td>\n",
       "      <td>S</td>\n",
       "      <td>Solo</td>\n",
       "      <td>male</td>\n",
       "      <td>35.0</td>\n",
       "    </tr>\n",
       "  </tbody>\n",
       "</table>\n",
       "</div>"
      ],
      "text/plain": [
       "   Pclass     Fare Title Embarked Fam_type     Sex   Age\n",
       "0       3   7.2500    Mr        S    Small    male  22.0\n",
       "1       1  71.2833   Mrs        C    Small  female  38.0\n",
       "2       3   7.9250  Miss        S     Solo  female  26.0\n",
       "3       1  53.1000   Mrs        S    Small  female  35.0\n",
       "4       3   8.0500    Mr        S     Solo    male  35.0"
      ]
     },
     "execution_count": 32,
     "metadata": {},
     "output_type": "execute_result"
    }
   ],
   "source": [
    "# Separate labels from features\n",
    "y = train_data_full.Survived\n",
    "\n",
    "features = ['Pclass', 'Fare', 'Title', 'Embarked', 'Fam_type', 'Sex', 'Age']\n",
    "X = train_data_full[features]\n",
    "\n",
    "X.head()"
   ]
  },
  {
   "cell_type": "markdown",
   "metadata": {
    "papermill": {
     "duration": 0.027016,
     "end_time": "2020-08-11T13:55:31.295840",
     "exception": false,
     "start_time": "2020-08-11T13:55:31.268824",
     "status": "completed"
    },
    "tags": []
   },
   "source": [
    "In the next step we need to handle the missing values in both numerical and categorical data. Pipelines will be used here to simplify the process"
   ]
  },
  {
   "cell_type": "code",
   "execution_count": 33,
   "metadata": {
    "execution": {
     "iopub.execute_input": "2020-08-11T13:55:31.362291Z",
     "iopub.status.busy": "2020-08-11T13:55:31.361432Z",
     "iopub.status.idle": "2020-08-11T13:55:31.365272Z",
     "shell.execute_reply": "2020-08-11T13:55:31.364511Z"
    },
    "papermill": {
     "duration": 0.04172,
     "end_time": "2020-08-11T13:55:31.365401",
     "exception": false,
     "start_time": "2020-08-11T13:55:31.323681",
     "status": "completed"
    },
    "tags": []
   },
   "outputs": [],
   "source": [
    "numerical_cols = ['Fare']\n",
    "categorical_cols = ['Pclass', 'Title', 'Embarked', 'Fam_type', 'Sex']\n",
    "\n",
    "# Preprocessing for numerical data\n",
    "numerical_transformer = SimpleImputer(strategy='median')\n",
    "\n",
    "# Preprocessing for categorical data\n",
    "categorical_transformer = Pipeline(steps=[\n",
    "    ('imputer', SimpleImputer(strategy='most_frequent')),\n",
    "    ('onehot', OneHotEncoder(handle_unknown='ignore'))\n",
    "])\n",
    "\n",
    "# Bundle preprocessing for numerical and categorical data\n",
    "preprocessor = ColumnTransformer(\n",
    "    transformers=[\n",
    "        ('num', numerical_transformer, numerical_cols),\n",
    "        ('cat', categorical_transformer, categorical_cols)\n",
    "    ])\n"
   ]
  },
  {
   "cell_type": "code",
   "execution_count": 34,
   "metadata": {
    "execution": {
     "iopub.execute_input": "2020-08-11T13:55:31.426398Z",
     "iopub.status.busy": "2020-08-11T13:55:31.425503Z",
     "iopub.status.idle": "2020-08-11T13:55:31.428948Z",
     "shell.execute_reply": "2020-08-11T13:55:31.428162Z"
    },
    "papermill": {
     "duration": 0.03599,
     "end_time": "2020-08-11T13:55:31.429114",
     "exception": false,
     "start_time": "2020-08-11T13:55:31.393124",
     "status": "completed"
    },
    "tags": []
   },
   "outputs": [],
   "source": [
    "# Bundle preprocessing and modeling with Random Forest \n",
    "titanic_pipeline = Pipeline(steps=[('preprocessor', preprocessor),\n",
    "                                   ('model', RandomForestClassifier(random_state=0, n_estimators=500, max_depth=5))\n",
    "                                  ])\n",
    "\n",
    "# Preprocessing of training data, fit model \n",
    "titanic_pipeline.fit(X,y)\n",
    "\n",
    "print('Cross validation score: {:.3f}'.format(cross_val_score(titanic_pipeline, X, y, cv=10).mean()))"
   ]
  },
  {
   "cell_type": "markdown",
   "metadata": {
    "papermill": {
     "duration": 0.092603,
     "end_time": "2020-08-11T13:55:49.752163",
     "exception": false,
     "start_time": "2020-08-11T13:55:49.659560",
     "status": "completed"
    },
    "tags": []
   },
   "source": [
    "We are now ready to make our predictions by simply calling the predict method on the test data.\n"
   ]
  },
  {
   "cell_type": "code",
   "execution_count": 36,
   "metadata": {
    "execution": {
     "iopub.execute_input": "2020-08-11T13:55:49.830483Z",
     "iopub.status.busy": "2020-08-11T13:55:49.816556Z",
     "iopub.status.idle": "2020-08-11T13:55:49.835821Z",
     "shell.execute_reply": "2020-08-11T13:55:49.834954Z"
    },
    "papermill": {
     "duration": 0.053745,
     "end_time": "2020-08-11T13:55:49.835959",
     "exception": false,
     "start_time": "2020-08-11T13:55:49.782214",
     "status": "completed"
    },
    "tags": []
   },
   "outputs": [
    {
     "data": {
      "text/html": [
       "<div>\n",
       "<style scoped>\n",
       "    .dataframe tbody tr th:only-of-type {\n",
       "        vertical-align: middle;\n",
       "    }\n",
       "\n",
       "    .dataframe tbody tr th {\n",
       "        vertical-align: top;\n",
       "    }\n",
       "\n",
       "    .dataframe thead th {\n",
       "        text-align: right;\n",
       "    }\n",
       "</style>\n",
       "<table border=\"1\" class=\"dataframe\">\n",
       "  <thead>\n",
       "    <tr style=\"text-align: right;\">\n",
       "      <th></th>\n",
       "      <th>Pclass</th>\n",
       "      <th>Fare</th>\n",
       "      <th>Title</th>\n",
       "      <th>Embarked</th>\n",
       "      <th>Fam_type</th>\n",
       "      <th>Sex</th>\n",
       "      <th>Age</th>\n",
       "    </tr>\n",
       "  </thead>\n",
       "  <tbody>\n",
       "    <tr>\n",
       "      <th>0</th>\n",
       "      <td>3</td>\n",
       "      <td>7.8292</td>\n",
       "      <td>Mr</td>\n",
       "      <td>Q</td>\n",
       "      <td>Solo</td>\n",
       "      <td>male</td>\n",
       "      <td>34.5</td>\n",
       "    </tr>\n",
       "    <tr>\n",
       "      <th>1</th>\n",
       "      <td>3</td>\n",
       "      <td>7.0000</td>\n",
       "      <td>Mrs</td>\n",
       "      <td>S</td>\n",
       "      <td>Small</td>\n",
       "      <td>female</td>\n",
       "      <td>47.0</td>\n",
       "    </tr>\n",
       "    <tr>\n",
       "      <th>2</th>\n",
       "      <td>2</td>\n",
       "      <td>9.6875</td>\n",
       "      <td>Mr</td>\n",
       "      <td>Q</td>\n",
       "      <td>Solo</td>\n",
       "      <td>male</td>\n",
       "      <td>62.0</td>\n",
       "    </tr>\n",
       "    <tr>\n",
       "      <th>3</th>\n",
       "      <td>3</td>\n",
       "      <td>8.6625</td>\n",
       "      <td>Mr</td>\n",
       "      <td>S</td>\n",
       "      <td>Solo</td>\n",
       "      <td>male</td>\n",
       "      <td>27.0</td>\n",
       "    </tr>\n",
       "    <tr>\n",
       "      <th>4</th>\n",
       "      <td>3</td>\n",
       "      <td>12.2875</td>\n",
       "      <td>Mrs</td>\n",
       "      <td>S</td>\n",
       "      <td>Small</td>\n",
       "      <td>female</td>\n",
       "      <td>22.0</td>\n",
       "    </tr>\n",
       "  </tbody>\n",
       "</table>\n",
       "</div>"
      ],
      "text/plain": [
       "   Pclass     Fare Title Embarked Fam_type     Sex   Age\n",
       "0       3   7.8292    Mr        Q     Solo    male  34.5\n",
       "1       3   7.0000   Mrs        S    Small  female  47.0\n",
       "2       2   9.6875    Mr        Q     Solo    male  62.0\n",
       "3       3   8.6625    Mr        S     Solo    male  27.0\n",
       "4       3  12.2875   Mrs        S    Small  female  22.0"
      ]
     },
     "execution_count": 36,
     "metadata": {},
     "output_type": "execute_result"
    }
   ],
   "source": [
    "X_test = test_data_full[features]\n",
    "X_test.head()"
   ]
  },
  {
   "cell_type": "code",
   "execution_count": 37,
   "metadata": {
    "execution": {
     "iopub.execute_input": "2020-08-11T13:55:49.916664Z",
     "iopub.status.busy": "2020-08-11T13:55:49.915392Z",
     "iopub.status.idle": "2020-08-11T13:55:49.936611Z",
     "shell.execute_reply": "2020-08-11T13:55:49.937865Z"
    },
    "papermill": {
     "duration": 0.073799,
     "end_time": "2020-08-11T13:55:49.938156",
     "exception": false,
     "start_time": "2020-08-11T13:55:49.864357",
     "status": "completed"
    },
    "tags": []
   },
   "outputs": [],
   "source": [
    "# Preprocessing of test data and predictions generation\n",
    "predictions = titanic_pipeline.predict(X_test)"
   ]
  },
  {
   "cell_type": "code",
   "execution_count": 38,
   "metadata": {
    "execution": {
     "iopub.execute_input": "2020-08-11T13:55:50.059505Z",
     "iopub.status.busy": "2020-08-11T13:55:50.058219Z",
     "iopub.status.idle": "2020-08-11T13:55:50.164972Z",
     "shell.execute_reply": "2020-08-11T13:55:50.164147Z"
    },
    "papermill": {
     "duration": 0.182708,
     "end_time": "2020-08-11T13:55:50.165133",
     "exception": false,
     "start_time": "2020-08-11T13:55:49.982425",
     "status": "completed"
    },
    "tags": []
   },
   "outputs": [
    {
     "name": "stdout",
     "output_type": "stream",
     "text": [
      "Your submission was successfully saved!\n"
     ]
    }
   ],
   "source": [
    "# Create submission file\n",
    "output = pd.DataFrame({'PassengerId': test_data_full.PassengerId, 'Survived': predictions})\n",
    "output.to_csv('my_submission.csv', index=False)\n",
    "print('Your submission was successfully saved!')"
   ]
  }
 ],
 "metadata": {
  "kernelspec": {
   "display_name": "Python 3",
   "language": "python",
   "name": "python3"
  },
  "language_info": {
   "codemirror_mode": {
    "name": "ipython",
    "version": 3
   },
   "file_extension": ".py",
   "mimetype": "text/x-python",
   "name": "python",
   "nbconvert_exporter": "python",
   "pygments_lexer": "ipython3",
   "version": "3.7.6"
  },
  "papermill": {
   "duration": 36.349899,
   "end_time": "2020-08-11T13:55:50.559690",
   "environment_variables": {},
   "exception": null,
   "input_path": "__notebook__.ipynb",
   "output_path": "__notebook__.ipynb",
   "parameters": {},
   "start_time": "2020-08-11T13:55:14.209791",
   "version": "2.1.0"
  }
 },
 "nbformat": 4,
 "nbformat_minor": 4
}